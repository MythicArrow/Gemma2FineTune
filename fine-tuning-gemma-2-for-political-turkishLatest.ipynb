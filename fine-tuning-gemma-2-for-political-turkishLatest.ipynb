{
 "cells": [
  {
   "cell_type": "code",
   "execution_count": 1,
   "id": "818b1121",
   "metadata": {
    "_cell_guid": "b1076dfc-b9ad-4769-8c92-a6c4dae69d19",
    "_uuid": "8f2839f25d086af736a60e9eeb907d3b93b6e0e5",
    "execution": {
     "iopub.execute_input": "2025-01-01T20:14:39.182917Z",
     "iopub.status.busy": "2025-01-01T20:14:39.182712Z",
     "iopub.status.idle": "2025-01-01T20:14:39.822898Z",
     "shell.execute_reply": "2025-01-01T20:14:39.821857Z"
    },
    "papermill": {
     "duration": 0.64777,
     "end_time": "2025-01-01T20:14:39.824344",
     "exception": false,
     "start_time": "2025-01-01T20:14:39.176574",
     "status": "completed"
    },
    "tags": []
   },
   "outputs": [
    {
     "name": "stdout",
     "output_type": "stream",
     "text": [
      "/kaggle/input/turkish-political-vocabulary/Turkish_Advanced_Political_Vocabulary.csv\n",
      "/kaggle/input/turkish-political-vocabulary/Turkish_Advanced_Political_Vocabulary_5000.csv\n",
      "/kaggle/input/gemma2/keras/gemma2_instruct_2b_en/1/config.json\n",
      "/kaggle/input/gemma2/keras/gemma2_instruct_2b_en/1/tokenizer.json\n",
      "/kaggle/input/gemma2/keras/gemma2_instruct_2b_en/1/metadata.json\n",
      "/kaggle/input/gemma2/keras/gemma2_instruct_2b_en/1/model.weights.h5\n",
      "/kaggle/input/gemma2/keras/gemma2_instruct_2b_en/1/assets/tokenizer/vocabulary.spm\n",
      "/kaggle/input/gemma-language-tuning/submission_instructions.txt\n"
     ]
    }
   ],
   "source": [
    "# This Python 3 environment comes with many helpful analytics libraries installed\n",
    "# It is defined by the kaggle/python Docker image: https://github.com/kaggle/docker-python\n",
    "# For example, here's several helpful packages to load\n",
    "\n",
    "import numpy as np # linear algebra\n",
    "import pandas as pd # data processing, CSV file I/O (e.g. pd.read_csv)\n",
    "\n",
    "# Input data files are available in the read-only \"../input/\" directory\n",
    "# For example, running this (by clicking run or pressing Shift+Enter) will list all files under the input directory\n",
    "\n",
    "import os\n",
    "for dirname, _, filenames in os.walk('/kaggle/input'):\n",
    "    for filename in filenames:\n",
    "        print(os.path.join(dirname, filename))\n",
    "\n",
    "# You can write up to 20GB to the current directory (/kaggle/working/) that gets preserved as output when you create a version using \"Save & Run All\" \n",
    "# You can also write temporary files to /kaggle/temp/, but they won't be saved outside of the current session"
   ]
  },
  {
   "cell_type": "code",
   "execution_count": 2,
   "id": "a8ad6460",
   "metadata": {
    "execution": {
     "iopub.execute_input": "2025-01-01T20:14:39.833915Z",
     "iopub.status.busy": "2025-01-01T20:14:39.833536Z",
     "iopub.status.idle": "2025-01-01T20:14:48.065241Z",
     "shell.execute_reply": "2025-01-01T20:14:48.064593Z"
    },
    "papermill": {
     "duration": 8.237977,
     "end_time": "2025-01-01T20:14:48.066698",
     "exception": false,
     "start_time": "2025-01-01T20:14:39.828721",
     "status": "completed"
    },
    "tags": []
   },
   "outputs": [],
   "source": [
    "import os\n",
    "import keras_nlp\n",
    "import keras\n",
    "import pandas as pd\n",
    "import time\n",
    "from tqdm.notebook import tqdm"
   ]
  },
  {
   "cell_type": "code",
   "execution_count": 3,
   "id": "c042cc29",
   "metadata": {
    "execution": {
     "iopub.execute_input": "2025-01-01T20:14:48.075802Z",
     "iopub.status.busy": "2025-01-01T20:14:48.075342Z",
     "iopub.status.idle": "2025-01-01T20:14:49.279724Z",
     "shell.execute_reply": "2025-01-01T20:14:49.278997Z"
    },
    "papermill": {
     "duration": 1.21024,
     "end_time": "2025-01-01T20:14:49.281210",
     "exception": false,
     "start_time": "2025-01-01T20:14:48.070970",
     "status": "completed"
    },
    "tags": []
   },
   "outputs": [],
   "source": [
    "import seaborn as sns\n",
    "import matplotlib.pyplot as plt\n",
    "import plotly.express as px\n",
    "import plotly.graph_objs as go"
   ]
  },
  {
   "cell_type": "code",
   "execution_count": 4,
   "id": "84607b6d",
   "metadata": {
    "execution": {
     "iopub.execute_input": "2025-01-01T20:14:49.290351Z",
     "iopub.status.busy": "2025-01-01T20:14:49.289792Z",
     "iopub.status.idle": "2025-01-01T20:14:49.293684Z",
     "shell.execute_reply": "2025-01-01T20:14:49.293085Z"
    },
    "papermill": {
     "duration": 0.009555,
     "end_time": "2025-01-01T20:14:49.294894",
     "exception": false,
     "start_time": "2025-01-01T20:14:49.285339",
     "status": "completed"
    },
    "tags": []
   },
   "outputs": [],
   "source": [
    "os.environ[\"KERAS_BACKEND\"]=\"jax\"\n",
    "\n",
    "os.environ[\"XLA_PYTHON_CLIENT_MEM_FRACTION\"]=\"1.00\"\n",
    "\n",
    "class Config:\n",
    "    token_limit=256\n",
    "    lora_name=\"Turkish_Lora\"\n",
    "    lora_rank=4\n",
    "    lr_value=1e-5\n",
    "    train_epoch=5\n",
    "    model_id = \"gemma2_instruct_2b_en\""
   ]
  },
  {
   "cell_type": "code",
   "execution_count": 5,
   "id": "527aa8bf",
   "metadata": {
    "execution": {
     "iopub.execute_input": "2025-01-01T20:14:49.303048Z",
     "iopub.status.busy": "2025-01-01T20:14:49.302837Z",
     "iopub.status.idle": "2025-01-01T20:14:49.354102Z",
     "shell.execute_reply": "2025-01-01T20:14:49.353478Z"
    },
    "papermill": {
     "duration": 0.056496,
     "end_time": "2025-01-01T20:14:49.355201",
     "exception": false,
     "start_time": "2025-01-01T20:14:49.298705",
     "status": "completed"
    },
    "tags": []
   },
   "outputs": [
    {
     "data": {
      "text/html": [
       "<div>\n",
       "<style scoped>\n",
       "    .dataframe tbody tr th:only-of-type {\n",
       "        vertical-align: middle;\n",
       "    }\n",
       "\n",
       "    .dataframe tbody tr th {\n",
       "        vertical-align: top;\n",
       "    }\n",
       "\n",
       "    .dataframe thead th {\n",
       "        text-align: right;\n",
       "    }\n",
       "</style>\n",
       "<table border=\"1\" class=\"dataframe\">\n",
       "  <thead>\n",
       "    <tr style=\"text-align: right;\">\n",
       "      <th></th>\n",
       "      <th>Word/Phrase</th>\n",
       "      <th>Meaning</th>\n",
       "      <th>Usage in Sentence</th>\n",
       "    </tr>\n",
       "  </thead>\n",
       "  <tbody>\n",
       "    <tr>\n",
       "      <th>0</th>\n",
       "      <td>Egemenlik</td>\n",
       "      <td>Opposition</td>\n",
       "      <td>Egemenlik, günümüz siyasetinde bir dönüm nokta...</td>\n",
       "    </tr>\n",
       "  </tbody>\n",
       "</table>\n",
       "</div>"
      ],
      "text/plain": [
       "  Word/Phrase     Meaning                                  Usage in Sentence\n",
       "0   Egemenlik  Opposition  Egemenlik, günümüz siyasetinde bir dönüm nokta..."
      ]
     },
     "execution_count": 5,
     "metadata": {},
     "output_type": "execute_result"
    }
   ],
   "source": [
    "df = pd.read_csv('/kaggle/input/turkish-political-vocabulary/Turkish_Advanced_Political_Vocabulary_5000.csv')\n",
    "df.head(1)"
   ]
  },
  {
   "cell_type": "code",
   "execution_count": 6,
   "id": "f801d885",
   "metadata": {
    "execution": {
     "iopub.execute_input": "2025-01-01T20:14:49.363872Z",
     "iopub.status.busy": "2025-01-01T20:14:49.363652Z",
     "iopub.status.idle": "2025-01-01T20:15:41.859655Z",
     "shell.execute_reply": "2025-01-01T20:15:41.858938Z"
    },
    "papermill": {
     "duration": 52.501822,
     "end_time": "2025-01-01T20:15:41.861047",
     "exception": false,
     "start_time": "2025-01-01T20:14:49.359225",
     "status": "completed"
    },
    "tags": []
   },
   "outputs": [
    {
     "data": {
      "text/html": [
       "<pre style=\"white-space:pre;overflow-x:auto;line-height:normal;font-family:Menlo,'DejaVu Sans Mono',consolas,'Courier New',monospace\"><span style=\"font-weight: bold\">Preprocessor: \"gemma_causal_lm_preprocessor\"</span>\n",
       "</pre>\n"
      ],
      "text/plain": [
       "\u001b[1mPreprocessor: \"gemma_causal_lm_preprocessor\"\u001b[0m\n"
      ]
     },
     "metadata": {},
     "output_type": "display_data"
    },
    {
     "data": {
      "text/html": [
       "<pre style=\"white-space:pre;overflow-x:auto;line-height:normal;font-family:Menlo,'DejaVu Sans Mono',consolas,'Courier New',monospace\">┏━━━━━━━━━━━━━━━━━━━━━━━━━━━━━━━━━━━━━━━━━━━━━━━━━━━━━━━━━━━━━━━┳━━━━━━━━━━━━━━━━━━━━━━━━━━━━━━━━━━━━━━━━━━┓\n",
       "┃<span style=\"font-weight: bold\"> Layer (type)                                                  </span>┃<span style=\"font-weight: bold\">                                   Config </span>┃\n",
       "┡━━━━━━━━━━━━━━━━━━━━━━━━━━━━━━━━━━━━━━━━━━━━━━━━━━━━━━━━━━━━━━━╇━━━━━━━━━━━━━━━━━━━━━━━━━━━━━━━━━━━━━━━━━━┩\n",
       "│ gemma_tokenizer (<span style=\"color: #0087ff; text-decoration-color: #0087ff\">GemmaTokenizer</span>)                              │                      Vocab size: <span style=\"color: #00af00; text-decoration-color: #00af00\">256,000</span> │\n",
       "└───────────────────────────────────────────────────────────────┴──────────────────────────────────────────┘\n",
       "</pre>\n"
      ],
      "text/plain": [
       "┏━━━━━━━━━━━━━━━━━━━━━━━━━━━━━━━━━━━━━━━━━━━━━━━━━━━━━━━━━━━━━━━┳━━━━━━━━━━━━━━━━━━━━━━━━━━━━━━━━━━━━━━━━━━┓\n",
       "┃\u001b[1m \u001b[0m\u001b[1mLayer (type)                                                 \u001b[0m\u001b[1m \u001b[0m┃\u001b[1m \u001b[0m\u001b[1m                                  Config\u001b[0m\u001b[1m \u001b[0m┃\n",
       "┡━━━━━━━━━━━━━━━━━━━━━━━━━━━━━━━━━━━━━━━━━━━━━━━━━━━━━━━━━━━━━━━╇━━━━━━━━━━━━━━━━━━━━━━━━━━━━━━━━━━━━━━━━━━┩\n",
       "│ gemma_tokenizer (\u001b[38;5;33mGemmaTokenizer\u001b[0m)                              │                      Vocab size: \u001b[38;5;34m256,000\u001b[0m │\n",
       "└───────────────────────────────────────────────────────────────┴──────────────────────────────────────────┘\n"
      ]
     },
     "metadata": {},
     "output_type": "display_data"
    },
    {
     "data": {
      "text/html": [
       "<pre style=\"white-space:pre;overflow-x:auto;line-height:normal;font-family:Menlo,'DejaVu Sans Mono',consolas,'Courier New',monospace\"><span style=\"font-weight: bold\">Model: \"gemma_causal_lm\"</span>\n",
       "</pre>\n"
      ],
      "text/plain": [
       "\u001b[1mModel: \"gemma_causal_lm\"\u001b[0m\n"
      ]
     },
     "metadata": {},
     "output_type": "display_data"
    },
    {
     "data": {
      "text/html": [
       "<pre style=\"white-space:pre;overflow-x:auto;line-height:normal;font-family:Menlo,'DejaVu Sans Mono',consolas,'Courier New',monospace\">┏━━━━━━━━━━━━━━━━━━━━━━━━━━━━━━━┳━━━━━━━━━━━━━━━━━━━━━━━━━━━┳━━━━━━━━━━━━━━━━━┳━━━━━━━━━━━━━━━━━━━━━━━━━━━━┓\n",
       "┃<span style=\"font-weight: bold\"> Layer (type)                  </span>┃<span style=\"font-weight: bold\"> Output Shape              </span>┃<span style=\"font-weight: bold\">         Param # </span>┃<span style=\"font-weight: bold\"> Connected to               </span>┃\n",
       "┡━━━━━━━━━━━━━━━━━━━━━━━━━━━━━━━╇━━━━━━━━━━━━━━━━━━━━━━━━━━━╇━━━━━━━━━━━━━━━━━╇━━━━━━━━━━━━━━━━━━━━━━━━━━━━┩\n",
       "│ padding_mask (<span style=\"color: #0087ff; text-decoration-color: #0087ff\">InputLayer</span>)     │ (<span style=\"color: #00d7ff; text-decoration-color: #00d7ff\">None</span>, <span style=\"color: #00d7ff; text-decoration-color: #00d7ff\">None</span>)              │               <span style=\"color: #00af00; text-decoration-color: #00af00\">0</span> │ -                          │\n",
       "├───────────────────────────────┼───────────────────────────┼─────────────────┼────────────────────────────┤\n",
       "│ token_ids (<span style=\"color: #0087ff; text-decoration-color: #0087ff\">InputLayer</span>)        │ (<span style=\"color: #00d7ff; text-decoration-color: #00d7ff\">None</span>, <span style=\"color: #00d7ff; text-decoration-color: #00d7ff\">None</span>)              │               <span style=\"color: #00af00; text-decoration-color: #00af00\">0</span> │ -                          │\n",
       "├───────────────────────────────┼───────────────────────────┼─────────────────┼────────────────────────────┤\n",
       "│ gemma_backbone                │ (<span style=\"color: #00d7ff; text-decoration-color: #00d7ff\">None</span>, <span style=\"color: #00d7ff; text-decoration-color: #00d7ff\">None</span>, <span style=\"color: #00af00; text-decoration-color: #00af00\">2304</span>)        │   <span style=\"color: #00af00; text-decoration-color: #00af00\">2,614,341,888</span> │ padding_mask[<span style=\"color: #00af00; text-decoration-color: #00af00\">0</span>][<span style=\"color: #00af00; text-decoration-color: #00af00\">0</span>],        │\n",
       "│ (<span style=\"color: #0087ff; text-decoration-color: #0087ff\">GemmaBackbone</span>)               │                           │                 │ token_ids[<span style=\"color: #00af00; text-decoration-color: #00af00\">0</span>][<span style=\"color: #00af00; text-decoration-color: #00af00\">0</span>]            │\n",
       "├───────────────────────────────┼───────────────────────────┼─────────────────┼────────────────────────────┤\n",
       "│ token_embedding               │ (<span style=\"color: #00d7ff; text-decoration-color: #00d7ff\">None</span>, <span style=\"color: #00d7ff; text-decoration-color: #00d7ff\">None</span>, <span style=\"color: #00af00; text-decoration-color: #00af00\">256000</span>)      │     <span style=\"color: #00af00; text-decoration-color: #00af00\">589,824,000</span> │ gemma_backbone[<span style=\"color: #00af00; text-decoration-color: #00af00\">0</span>][<span style=\"color: #00af00; text-decoration-color: #00af00\">0</span>]       │\n",
       "│ (<span style=\"color: #0087ff; text-decoration-color: #0087ff\">ReversibleEmbedding</span>)         │                           │                 │                            │\n",
       "└───────────────────────────────┴───────────────────────────┴─────────────────┴────────────────────────────┘\n",
       "</pre>\n"
      ],
      "text/plain": [
       "┏━━━━━━━━━━━━━━━━━━━━━━━━━━━━━━━┳━━━━━━━━━━━━━━━━━━━━━━━━━━━┳━━━━━━━━━━━━━━━━━┳━━━━━━━━━━━━━━━━━━━━━━━━━━━━┓\n",
       "┃\u001b[1m \u001b[0m\u001b[1mLayer (type)                 \u001b[0m\u001b[1m \u001b[0m┃\u001b[1m \u001b[0m\u001b[1mOutput Shape             \u001b[0m\u001b[1m \u001b[0m┃\u001b[1m \u001b[0m\u001b[1m        Param #\u001b[0m\u001b[1m \u001b[0m┃\u001b[1m \u001b[0m\u001b[1mConnected to              \u001b[0m\u001b[1m \u001b[0m┃\n",
       "┡━━━━━━━━━━━━━━━━━━━━━━━━━━━━━━━╇━━━━━━━━━━━━━━━━━━━━━━━━━━━╇━━━━━━━━━━━━━━━━━╇━━━━━━━━━━━━━━━━━━━━━━━━━━━━┩\n",
       "│ padding_mask (\u001b[38;5;33mInputLayer\u001b[0m)     │ (\u001b[38;5;45mNone\u001b[0m, \u001b[38;5;45mNone\u001b[0m)              │               \u001b[38;5;34m0\u001b[0m │ -                          │\n",
       "├───────────────────────────────┼───────────────────────────┼─────────────────┼────────────────────────────┤\n",
       "│ token_ids (\u001b[38;5;33mInputLayer\u001b[0m)        │ (\u001b[38;5;45mNone\u001b[0m, \u001b[38;5;45mNone\u001b[0m)              │               \u001b[38;5;34m0\u001b[0m │ -                          │\n",
       "├───────────────────────────────┼───────────────────────────┼─────────────────┼────────────────────────────┤\n",
       "│ gemma_backbone                │ (\u001b[38;5;45mNone\u001b[0m, \u001b[38;5;45mNone\u001b[0m, \u001b[38;5;34m2304\u001b[0m)        │   \u001b[38;5;34m2,614,341,888\u001b[0m │ padding_mask[\u001b[38;5;34m0\u001b[0m][\u001b[38;5;34m0\u001b[0m],        │\n",
       "│ (\u001b[38;5;33mGemmaBackbone\u001b[0m)               │                           │                 │ token_ids[\u001b[38;5;34m0\u001b[0m][\u001b[38;5;34m0\u001b[0m]            │\n",
       "├───────────────────────────────┼───────────────────────────┼─────────────────┼────────────────────────────┤\n",
       "│ token_embedding               │ (\u001b[38;5;45mNone\u001b[0m, \u001b[38;5;45mNone\u001b[0m, \u001b[38;5;34m256000\u001b[0m)      │     \u001b[38;5;34m589,824,000\u001b[0m │ gemma_backbone[\u001b[38;5;34m0\u001b[0m][\u001b[38;5;34m0\u001b[0m]       │\n",
       "│ (\u001b[38;5;33mReversibleEmbedding\u001b[0m)         │                           │                 │                            │\n",
       "└───────────────────────────────┴───────────────────────────┴─────────────────┴────────────────────────────┘\n"
      ]
     },
     "metadata": {},
     "output_type": "display_data"
    },
    {
     "data": {
      "text/html": [
       "<pre style=\"white-space:pre;overflow-x:auto;line-height:normal;font-family:Menlo,'DejaVu Sans Mono',consolas,'Courier New',monospace\"><span style=\"font-weight: bold\"> Total params: </span><span style=\"color: #00af00; text-decoration-color: #00af00\">2,614,341,888</span> (9.74 GB)\n",
       "</pre>\n"
      ],
      "text/plain": [
       "\u001b[1m Total params: \u001b[0m\u001b[38;5;34m2,614,341,888\u001b[0m (9.74 GB)\n"
      ]
     },
     "metadata": {},
     "output_type": "display_data"
    },
    {
     "data": {
      "text/html": [
       "<pre style=\"white-space:pre;overflow-x:auto;line-height:normal;font-family:Menlo,'DejaVu Sans Mono',consolas,'Courier New',monospace\"><span style=\"font-weight: bold\"> Trainable params: </span><span style=\"color: #00af00; text-decoration-color: #00af00\">2,614,341,888</span> (9.74 GB)\n",
       "</pre>\n"
      ],
      "text/plain": [
       "\u001b[1m Trainable params: \u001b[0m\u001b[38;5;34m2,614,341,888\u001b[0m (9.74 GB)\n"
      ]
     },
     "metadata": {},
     "output_type": "display_data"
    },
    {
     "data": {
      "text/html": [
       "<pre style=\"white-space:pre;overflow-x:auto;line-height:normal;font-family:Menlo,'DejaVu Sans Mono',consolas,'Courier New',monospace\"><span style=\"font-weight: bold\"> Non-trainable params: </span><span style=\"color: #00af00; text-decoration-color: #00af00\">0</span> (0.00 B)\n",
       "</pre>\n"
      ],
      "text/plain": [
       "\u001b[1m Non-trainable params: \u001b[0m\u001b[38;5;34m0\u001b[0m (0.00 B)\n"
      ]
     },
     "metadata": {},
     "output_type": "display_data"
    }
   ],
   "source": [
    "tokenizer = keras_nlp.models.GemmaTokenizer.from_preset(Config.model_id)\n",
    "gemma = keras_nlp.models.GemmaCausalLM.from_preset(Config.model_id)\n",
    "gemma.summary()"
   ]
  },
  {
   "cell_type": "code",
   "execution_count": 7,
   "id": "1607db76",
   "metadata": {
    "execution": {
     "iopub.execute_input": "2025-01-01T20:15:41.871895Z",
     "iopub.status.busy": "2025-01-01T20:15:41.871647Z",
     "iopub.status.idle": "2025-01-01T20:15:56.653945Z",
     "shell.execute_reply": "2025-01-01T20:15:56.652980Z"
    },
    "papermill": {
     "duration": 14.789494,
     "end_time": "2025-01-01T20:15:56.655390",
     "exception": false,
     "start_time": "2025-01-01T20:15:41.865896",
     "status": "completed"
    },
    "tags": []
   },
   "outputs": [
    {
     "data": {
      "application/vnd.jupyter.widget-view+json": {
       "model_id": "958e484e4c7a4ff9b3cc800150ede791",
       "version_major": 2,
       "version_minor": 0
      },
      "text/plain": [
       "tokenize dataset: 0it [00:00, ?it/s]"
      ]
     },
     "metadata": {},
     "output_type": "display_data"
    },
    {
     "name": "stdout",
     "output_type": "stream",
     "text": [
      "9000\n",
      "<start_of_turn>user\n",
      "Egemenlik<end_of_turn>\n",
      "<start_of_turn>system\n",
      "Egemenlik, günümüz siyasetinde bir dönüm noktasıdır.<end_of_turn>\n",
      "<start_of_turn>user\n",
      "Bağımsızlık<end_of_turn>\n",
      "<start_of_turn>system\n",
      "Bağımsızlık, demokrasinin işleyişinde kritik bir rol oynar.<end_of_turn>\n",
      "<start_of_turn>user\n",
      "İnsan hakları<end_of_turn>\n",
      "<start_of_turn>system\n",
      "İnsan hakları kavramı modern siyaset biliminin temelini oluşturur.<end_of_turn>\n"
     ]
    }
   ],
   "source": [
    "train = []\n",
    "\n",
    "for i,x in tqdm(df.iterrows(), desc='tokenize dataset'):\n",
    "    item = f\"<start_of_turn>user\\n{x['Word/Phrase']}<end_of_turn>\\n<start_of_turn>system\\n{x['Usage in Sentence']}<end_of_turn>\"\n",
    "    length = len(tokenizer(item))\n",
    "    if length < Config.token_limit:\n",
    "        train.append(item)\n",
    "\n",
    "print(len(train))\n",
    "print(train[0])\n",
    "print(train[1])\n",
    "print(train[4])"
   ]
  },
  {
   "cell_type": "code",
   "execution_count": 8,
   "id": "f10b6c56",
   "metadata": {
    "execution": {
     "iopub.execute_input": "2025-01-01T20:15:56.666190Z",
     "iopub.status.busy": "2025-01-01T20:15:56.665966Z",
     "iopub.status.idle": "2025-01-01T20:15:56.670100Z",
     "shell.execute_reply": "2025-01-01T20:15:56.669472Z"
    },
    "papermill": {
     "duration": 0.010592,
     "end_time": "2025-01-01T20:15:56.671154",
     "exception": false,
     "start_time": "2025-01-01T20:15:56.660562",
     "status": "completed"
    },
    "tags": []
   },
   "outputs": [],
   "source": [
    "tick_start = 0\n",
    "\n",
    "\n",
    "def tick():\n",
    "    global tick_start\n",
    "    tick_start = time.time()\n",
    "\n",
    "\n",
    "def tock():\n",
    "    print(f\"TOTAL TIME ELAPSED: {time.time() - tick_start:.2f}s\")\n",
    "\n",
    "\n",
    "def text_gen(prompt):\n",
    "    tick()\n",
    "    input = f\"<start_of_turn>user\\n{prompt}<end_of_turn>\\n<start_of_turn>model\\n\"\n",
    "    output = gemma.generate(input, max_length=Config.token_limit)\n",
    "    print(\"\\nGemma output:\")\n",
    "    print(output)\n",
    "    tock()"
   ]
  },
  {
   "cell_type": "code",
   "execution_count": 9,
   "id": "6d4eee1b",
   "metadata": {
    "execution": {
     "iopub.execute_input": "2025-01-01T20:15:56.681356Z",
     "iopub.status.busy": "2025-01-01T20:15:56.681151Z",
     "iopub.status.idle": "2025-01-01T20:16:32.886209Z",
     "shell.execute_reply": "2025-01-01T20:16:32.885205Z"
    },
    "papermill": {
     "duration": 36.216203,
     "end_time": "2025-01-01T20:16:32.892140",
     "exception": false,
     "start_time": "2025-01-01T20:15:56.675937",
     "status": "completed"
    },
    "tags": []
   },
   "outputs": [
    {
     "name": "stdout",
     "output_type": "stream",
     "text": [
      "\n",
      "Gemma output:\n",
      "<start_of_turn>user\n",
      "Türkiye bir hukuk devleti olarak sayılır ama bunun hakkında bazı potansiyel şüpheler mevcuttur. Sence bu doğru mu?<end_of_turn>\n",
      "<start_of_turn>model\n",
      "Türkiye'nin hukuk devleti olarak kabul edilmesinin doğru olup olmadığı, tartışmalı bir konudur. \n",
      "\n",
      "**Argümanlar:**\n",
      "\n",
      "**Hukuk Devleti Özellikleri:**\n",
      "\n",
      "* **Yasal düzenlemeler:** Türkiye, yasal düzenlemeler ve hukuki sistemde belirli bir temel ve kurallar sunar. \n",
      "* **Yargı sistemi:** Türkiye'de yargı sistemi mevcuttur ve yasal süreçler ve hukuki kararlar alınır. \n",
      "* **Hukuk profesyonelleri:** Türkiye'de hukuk profesyonelleri bulunmaktadır ve hukuki hizmetler sunulmaktadır. \n",
      "\n",
      "**Şüpheler:**\n",
      "\n",
      "* **Yasal uygulama:** Yasal düzenlemelerin uygulanması ve uygulamada adil bir şekilde uygulanması konusunda bazı şüpheler bulunmaktadır. \n",
      "* **Yargı bağımsızlığı:** Yargı bağımsızlığı konusunda bazı endişeler bulunmaktadır. \n",
      "* **Güvenilirlik:** Türkiye'de hukuk sistem\n",
      "TOTAL TIME ELAPSED: 36.20s\n"
     ]
    }
   ],
   "source": [
    "text_gen('Türkiye bir hukuk devleti olarak sayılır ama bunun hakkında bazı potansiyel şüpheler mevcuttur. Sence bu doğru mu?')"
   ]
  },
  {
   "cell_type": "code",
   "execution_count": 10,
   "id": "5a3617c6",
   "metadata": {
    "execution": {
     "iopub.execute_input": "2025-01-01T20:16:32.903303Z",
     "iopub.status.busy": "2025-01-01T20:16:32.903074Z",
     "iopub.status.idle": "2025-01-01T20:16:33.087994Z",
     "shell.execute_reply": "2025-01-01T20:16:33.087151Z"
    },
    "papermill": {
     "duration": 0.191506,
     "end_time": "2025-01-01T20:16:33.089168",
     "exception": false,
     "start_time": "2025-01-01T20:16:32.897662",
     "status": "completed"
    },
    "tags": []
   },
   "outputs": [
    {
     "data": {
      "text/html": [
       "<pre style=\"white-space:pre;overflow-x:auto;line-height:normal;font-family:Menlo,'DejaVu Sans Mono',consolas,'Courier New',monospace\"><span style=\"font-weight: bold\">Preprocessor: \"gemma_causal_lm_preprocessor\"</span>\n",
       "</pre>\n"
      ],
      "text/plain": [
       "\u001b[1mPreprocessor: \"gemma_causal_lm_preprocessor\"\u001b[0m\n"
      ]
     },
     "metadata": {},
     "output_type": "display_data"
    },
    {
     "data": {
      "text/html": [
       "<pre style=\"white-space:pre;overflow-x:auto;line-height:normal;font-family:Menlo,'DejaVu Sans Mono',consolas,'Courier New',monospace\">┏━━━━━━━━━━━━━━━━━━━━━━━━━━━━━━━━━━━━━━━━━━━━━━━━━━━━━━━━━━━━━━━┳━━━━━━━━━━━━━━━━━━━━━━━━━━━━━━━━━━━━━━━━━━┓\n",
       "┃<span style=\"font-weight: bold\"> Layer (type)                                                  </span>┃<span style=\"font-weight: bold\">                                   Config </span>┃\n",
       "┡━━━━━━━━━━━━━━━━━━━━━━━━━━━━━━━━━━━━━━━━━━━━━━━━━━━━━━━━━━━━━━━╇━━━━━━━━━━━━━━━━━━━━━━━━━━━━━━━━━━━━━━━━━━┩\n",
       "│ gemma_tokenizer (<span style=\"color: #0087ff; text-decoration-color: #0087ff\">GemmaTokenizer</span>)                              │                      Vocab size: <span style=\"color: #00af00; text-decoration-color: #00af00\">256,000</span> │\n",
       "└───────────────────────────────────────────────────────────────┴──────────────────────────────────────────┘\n",
       "</pre>\n"
      ],
      "text/plain": [
       "┏━━━━━━━━━━━━━━━━━━━━━━━━━━━━━━━━━━━━━━━━━━━━━━━━━━━━━━━━━━━━━━━┳━━━━━━━━━━━━━━━━━━━━━━━━━━━━━━━━━━━━━━━━━━┓\n",
       "┃\u001b[1m \u001b[0m\u001b[1mLayer (type)                                                 \u001b[0m\u001b[1m \u001b[0m┃\u001b[1m \u001b[0m\u001b[1m                                  Config\u001b[0m\u001b[1m \u001b[0m┃\n",
       "┡━━━━━━━━━━━━━━━━━━━━━━━━━━━━━━━━━━━━━━━━━━━━━━━━━━━━━━━━━━━━━━━╇━━━━━━━━━━━━━━━━━━━━━━━━━━━━━━━━━━━━━━━━━━┩\n",
       "│ gemma_tokenizer (\u001b[38;5;33mGemmaTokenizer\u001b[0m)                              │                      Vocab size: \u001b[38;5;34m256,000\u001b[0m │\n",
       "└───────────────────────────────────────────────────────────────┴──────────────────────────────────────────┘\n"
      ]
     },
     "metadata": {},
     "output_type": "display_data"
    },
    {
     "data": {
      "text/html": [
       "<pre style=\"white-space:pre;overflow-x:auto;line-height:normal;font-family:Menlo,'DejaVu Sans Mono',consolas,'Courier New',monospace\"><span style=\"font-weight: bold\">Model: \"gemma_causal_lm\"</span>\n",
       "</pre>\n"
      ],
      "text/plain": [
       "\u001b[1mModel: \"gemma_causal_lm\"\u001b[0m\n"
      ]
     },
     "metadata": {},
     "output_type": "display_data"
    },
    {
     "data": {
      "text/html": [
       "<pre style=\"white-space:pre;overflow-x:auto;line-height:normal;font-family:Menlo,'DejaVu Sans Mono',consolas,'Courier New',monospace\">┏━━━━━━━━━━━━━━━━━━━━━━━━━━━━━━━┳━━━━━━━━━━━━━━━━━━━━━━━━━━━┳━━━━━━━━━━━━━━━━━┳━━━━━━━━━━━━━━━━━━━━━━━━━━━━┓\n",
       "┃<span style=\"font-weight: bold\"> Layer (type)                  </span>┃<span style=\"font-weight: bold\"> Output Shape              </span>┃<span style=\"font-weight: bold\">         Param # </span>┃<span style=\"font-weight: bold\"> Connected to               </span>┃\n",
       "┡━━━━━━━━━━━━━━━━━━━━━━━━━━━━━━━╇━━━━━━━━━━━━━━━━━━━━━━━━━━━╇━━━━━━━━━━━━━━━━━╇━━━━━━━━━━━━━━━━━━━━━━━━━━━━┩\n",
       "│ padding_mask (<span style=\"color: #0087ff; text-decoration-color: #0087ff\">InputLayer</span>)     │ (<span style=\"color: #00d7ff; text-decoration-color: #00d7ff\">None</span>, <span style=\"color: #00d7ff; text-decoration-color: #00d7ff\">None</span>)              │               <span style=\"color: #00af00; text-decoration-color: #00af00\">0</span> │ -                          │\n",
       "├───────────────────────────────┼───────────────────────────┼─────────────────┼────────────────────────────┤\n",
       "│ token_ids (<span style=\"color: #0087ff; text-decoration-color: #0087ff\">InputLayer</span>)        │ (<span style=\"color: #00d7ff; text-decoration-color: #00d7ff\">None</span>, <span style=\"color: #00d7ff; text-decoration-color: #00d7ff\">None</span>)              │               <span style=\"color: #00af00; text-decoration-color: #00af00\">0</span> │ -                          │\n",
       "├───────────────────────────────┼───────────────────────────┼─────────────────┼────────────────────────────┤\n",
       "│ gemma_backbone                │ (<span style=\"color: #00d7ff; text-decoration-color: #00d7ff\">None</span>, <span style=\"color: #00d7ff; text-decoration-color: #00d7ff\">None</span>, <span style=\"color: #00af00; text-decoration-color: #00af00\">2304</span>)        │   <span style=\"color: #00af00; text-decoration-color: #00af00\">2,617,270,528</span> │ padding_mask[<span style=\"color: #00af00; text-decoration-color: #00af00\">0</span>][<span style=\"color: #00af00; text-decoration-color: #00af00\">0</span>],        │\n",
       "│ (<span style=\"color: #0087ff; text-decoration-color: #0087ff\">GemmaBackbone</span>)               │                           │                 │ token_ids[<span style=\"color: #00af00; text-decoration-color: #00af00\">0</span>][<span style=\"color: #00af00; text-decoration-color: #00af00\">0</span>]            │\n",
       "├───────────────────────────────┼───────────────────────────┼─────────────────┼────────────────────────────┤\n",
       "│ token_embedding               │ (<span style=\"color: #00d7ff; text-decoration-color: #00d7ff\">None</span>, <span style=\"color: #00d7ff; text-decoration-color: #00d7ff\">None</span>, <span style=\"color: #00af00; text-decoration-color: #00af00\">256000</span>)      │     <span style=\"color: #00af00; text-decoration-color: #00af00\">589,824,000</span> │ gemma_backbone[<span style=\"color: #00af00; text-decoration-color: #00af00\">0</span>][<span style=\"color: #00af00; text-decoration-color: #00af00\">0</span>]       │\n",
       "│ (<span style=\"color: #0087ff; text-decoration-color: #0087ff\">ReversibleEmbedding</span>)         │                           │                 │                            │\n",
       "└───────────────────────────────┴───────────────────────────┴─────────────────┴────────────────────────────┘\n",
       "</pre>\n"
      ],
      "text/plain": [
       "┏━━━━━━━━━━━━━━━━━━━━━━━━━━━━━━━┳━━━━━━━━━━━━━━━━━━━━━━━━━━━┳━━━━━━━━━━━━━━━━━┳━━━━━━━━━━━━━━━━━━━━━━━━━━━━┓\n",
       "┃\u001b[1m \u001b[0m\u001b[1mLayer (type)                 \u001b[0m\u001b[1m \u001b[0m┃\u001b[1m \u001b[0m\u001b[1mOutput Shape             \u001b[0m\u001b[1m \u001b[0m┃\u001b[1m \u001b[0m\u001b[1m        Param #\u001b[0m\u001b[1m \u001b[0m┃\u001b[1m \u001b[0m\u001b[1mConnected to              \u001b[0m\u001b[1m \u001b[0m┃\n",
       "┡━━━━━━━━━━━━━━━━━━━━━━━━━━━━━━━╇━━━━━━━━━━━━━━━━━━━━━━━━━━━╇━━━━━━━━━━━━━━━━━╇━━━━━━━━━━━━━━━━━━━━━━━━━━━━┩\n",
       "│ padding_mask (\u001b[38;5;33mInputLayer\u001b[0m)     │ (\u001b[38;5;45mNone\u001b[0m, \u001b[38;5;45mNone\u001b[0m)              │               \u001b[38;5;34m0\u001b[0m │ -                          │\n",
       "├───────────────────────────────┼───────────────────────────┼─────────────────┼────────────────────────────┤\n",
       "│ token_ids (\u001b[38;5;33mInputLayer\u001b[0m)        │ (\u001b[38;5;45mNone\u001b[0m, \u001b[38;5;45mNone\u001b[0m)              │               \u001b[38;5;34m0\u001b[0m │ -                          │\n",
       "├───────────────────────────────┼───────────────────────────┼─────────────────┼────────────────────────────┤\n",
       "│ gemma_backbone                │ (\u001b[38;5;45mNone\u001b[0m, \u001b[38;5;45mNone\u001b[0m, \u001b[38;5;34m2304\u001b[0m)        │   \u001b[38;5;34m2,617,270,528\u001b[0m │ padding_mask[\u001b[38;5;34m0\u001b[0m][\u001b[38;5;34m0\u001b[0m],        │\n",
       "│ (\u001b[38;5;33mGemmaBackbone\u001b[0m)               │                           │                 │ token_ids[\u001b[38;5;34m0\u001b[0m][\u001b[38;5;34m0\u001b[0m]            │\n",
       "├───────────────────────────────┼───────────────────────────┼─────────────────┼────────────────────────────┤\n",
       "│ token_embedding               │ (\u001b[38;5;45mNone\u001b[0m, \u001b[38;5;45mNone\u001b[0m, \u001b[38;5;34m256000\u001b[0m)      │     \u001b[38;5;34m589,824,000\u001b[0m │ gemma_backbone[\u001b[38;5;34m0\u001b[0m][\u001b[38;5;34m0\u001b[0m]       │\n",
       "│ (\u001b[38;5;33mReversibleEmbedding\u001b[0m)         │                           │                 │                            │\n",
       "└───────────────────────────────┴───────────────────────────┴─────────────────┴────────────────────────────┘\n"
      ]
     },
     "metadata": {},
     "output_type": "display_data"
    },
    {
     "data": {
      "text/html": [
       "<pre style=\"white-space:pre;overflow-x:auto;line-height:normal;font-family:Menlo,'DejaVu Sans Mono',consolas,'Courier New',monospace\"><span style=\"font-weight: bold\"> Total params: </span><span style=\"color: #00af00; text-decoration-color: #00af00\">2,617,270,528</span> (9.75 GB)\n",
       "</pre>\n"
      ],
      "text/plain": [
       "\u001b[1m Total params: \u001b[0m\u001b[38;5;34m2,617,270,528\u001b[0m (9.75 GB)\n"
      ]
     },
     "metadata": {},
     "output_type": "display_data"
    },
    {
     "data": {
      "text/html": [
       "<pre style=\"white-space:pre;overflow-x:auto;line-height:normal;font-family:Menlo,'DejaVu Sans Mono',consolas,'Courier New',monospace\"><span style=\"font-weight: bold\"> Trainable params: </span><span style=\"color: #00af00; text-decoration-color: #00af00\">2,928,640</span> (11.17 MB)\n",
       "</pre>\n"
      ],
      "text/plain": [
       "\u001b[1m Trainable params: \u001b[0m\u001b[38;5;34m2,928,640\u001b[0m (11.17 MB)\n"
      ]
     },
     "metadata": {},
     "output_type": "display_data"
    },
    {
     "data": {
      "text/html": [
       "<pre style=\"white-space:pre;overflow-x:auto;line-height:normal;font-family:Menlo,'DejaVu Sans Mono',consolas,'Courier New',monospace\"><span style=\"font-weight: bold\"> Non-trainable params: </span><span style=\"color: #00af00; text-decoration-color: #00af00\">2,614,341,888</span> (9.74 GB)\n",
       "</pre>\n"
      ],
      "text/plain": [
       "\u001b[1m Non-trainable params: \u001b[0m\u001b[38;5;34m2,614,341,888\u001b[0m (9.74 GB)\n"
      ]
     },
     "metadata": {},
     "output_type": "display_data"
    }
   ],
   "source": [
    "gemma.backbone.enable_lora(rank=Config.lora_rank)\n",
    "gemma.summary()\n"
   ]
  },
  {
   "cell_type": "code",
   "execution_count": 11,
   "id": "35d9cfd6",
   "metadata": {
    "execution": {
     "iopub.execute_input": "2025-01-01T20:16:33.101156Z",
     "iopub.status.busy": "2025-01-01T20:16:33.100907Z",
     "iopub.status.idle": "2025-01-01T20:16:33.111561Z",
     "shell.execute_reply": "2025-01-01T20:16:33.110750Z"
    },
    "papermill": {
     "duration": 0.017973,
     "end_time": "2025-01-01T20:16:33.112879",
     "exception": false,
     "start_time": "2025-01-01T20:16:33.094906",
     "status": "completed"
    },
    "tags": []
   },
   "outputs": [],
   "source": [
    "gemma.preprocessor.sequence_length = Config.token_limit\n",
    "# Use AdamW (a common optimizer for transformer models).\n",
    "optimizer = keras.optimizers.AdamW(\n",
    "    learning_rate=Config.lr_value,\n",
    "    weight_decay=0.01,\n",
    ")\n",
    "# Exclude layernorm and bias terms from decay.\n",
    "optimizer.exclude_from_weight_decay(var_names=[\"bias\", \"scale\"])\n",
    "\n",
    "gemma.compile(\n",
    "    loss=keras.losses.SparseCategoricalCrossentropy(from_logits=True),\n",
    "    optimizer=optimizer,\n",
    "    weighted_metrics=[keras.metrics.SparseCategoricalAccuracy()],\n",
    ")"
   ]
  },
  {
   "cell_type": "code",
   "execution_count": 12,
   "id": "51d8c1cf",
   "metadata": {
    "execution": {
     "iopub.execute_input": "2025-01-01T20:16:33.124568Z",
     "iopub.status.busy": "2025-01-01T20:16:33.124324Z",
     "iopub.status.idle": "2025-01-01T20:16:33.131897Z",
     "shell.execute_reply": "2025-01-01T20:16:33.131123Z"
    },
    "papermill": {
     "duration": 0.014584,
     "end_time": "2025-01-01T20:16:33.133033",
     "exception": false,
     "start_time": "2025-01-01T20:16:33.118449",
     "status": "completed"
    },
    "tags": []
   },
   "outputs": [
    {
     "data": {
      "text/html": [
       "<div>\n",
       "<style scoped>\n",
       "    .dataframe tbody tr th:only-of-type {\n",
       "        vertical-align: middle;\n",
       "    }\n",
       "\n",
       "    .dataframe tbody tr th {\n",
       "        vertical-align: top;\n",
       "    }\n",
       "\n",
       "    .dataframe thead th {\n",
       "        text-align: right;\n",
       "    }\n",
       "</style>\n",
       "<table border=\"1\" class=\"dataframe\">\n",
       "  <thead>\n",
       "    <tr style=\"text-align: right;\">\n",
       "      <th></th>\n",
       "      <th>Word/Phrase</th>\n",
       "      <th>Meaning</th>\n",
       "      <th>Usage in Sentence</th>\n",
       "    </tr>\n",
       "  </thead>\n",
       "  <tbody>\n",
       "    <tr>\n",
       "      <th>8995</th>\n",
       "      <td>Devlet politikası</td>\n",
       "      <td>Parliament</td>\n",
       "      <td>Bir toplumun Devlet politikası ilkelerine bağl...</td>\n",
       "    </tr>\n",
       "    <tr>\n",
       "      <th>8996</th>\n",
       "      <td>Sivil toplum</td>\n",
       "      <td>State policy</td>\n",
       "      <td>Sivil toplum konusunda yapılan reformlar geniş...</td>\n",
       "    </tr>\n",
       "    <tr>\n",
       "      <th>8997</th>\n",
       "      <td>Yolsuzluk</td>\n",
       "      <td>International relations</td>\n",
       "      <td>Yolsuzluk üzerine yoğun tartışmalar yaşanmakta...</td>\n",
       "    </tr>\n",
       "    <tr>\n",
       "      <th>8998</th>\n",
       "      <td>Çoğulculuk</td>\n",
       "      <td>Civil society</td>\n",
       "      <td>Çoğulculuk konusunda yapılan reformlar geniş y...</td>\n",
       "    </tr>\n",
       "    <tr>\n",
       "      <th>8999</th>\n",
       "      <td>Temsili demokrasi</td>\n",
       "      <td>Public opinion</td>\n",
       "      <td>Temsili demokrasi perspektifinden bakıldığında...</td>\n",
       "    </tr>\n",
       "  </tbody>\n",
       "</table>\n",
       "</div>"
      ],
      "text/plain": [
       "            Word/Phrase                  Meaning  \\\n",
       "8995  Devlet politikası               Parliament   \n",
       "8996       Sivil toplum             State policy   \n",
       "8997          Yolsuzluk  International relations   \n",
       "8998         Çoğulculuk            Civil society   \n",
       "8999  Temsili demokrasi           Public opinion   \n",
       "\n",
       "                                      Usage in Sentence  \n",
       "8995  Bir toplumun Devlet politikası ilkelerine bağl...  \n",
       "8996  Sivil toplum konusunda yapılan reformlar geniş...  \n",
       "8997  Yolsuzluk üzerine yoğun tartışmalar yaşanmakta...  \n",
       "8998  Çoğulculuk konusunda yapılan reformlar geniş y...  \n",
       "8999  Temsili demokrasi perspektifinden bakıldığında...  "
      ]
     },
     "execution_count": 12,
     "metadata": {},
     "output_type": "execute_result"
    }
   ],
   "source": [
    "df.tail()"
   ]
  },
  {
   "cell_type": "code",
   "execution_count": 13,
   "id": "b8c11aef",
   "metadata": {
    "execution": {
     "iopub.execute_input": "2025-01-01T20:16:33.145010Z",
     "iopub.status.busy": "2025-01-01T20:16:33.144776Z",
     "iopub.status.idle": "2025-01-02T01:35:06.417529Z",
     "shell.execute_reply": "2025-01-02T01:35:06.416685Z"
    },
    "papermill": {
     "duration": 19113.280311,
     "end_time": "2025-01-02T01:35:06.419036",
     "exception": false,
     "start_time": "2025-01-01T20:16:33.138725",
     "status": "completed"
    },
    "tags": []
   },
   "outputs": [
    {
     "name": "stdout",
     "output_type": "stream",
     "text": [
      "Epoch 1/5\n",
      "\u001b[1m9000/9000\u001b[0m \u001b[32m━━━━━━━━━━━━━━━━━━━━\u001b[0m\u001b[37m\u001b[0m \u001b[1m0s\u001b[0m 422ms/step - loss: 0.3016 - sparse_categorical_accuracy: 0.7093\n",
      "Gemma output:\n",
      "<start_of_turn>user\n",
      "Which country type is Turkey considered to be?<end_of_turn>\n",
      "<start_of_turn>model\n",
      "Bir ülkenin tipi, demokrasinin işleyişinde kritik bir rol oynar.<end_of_turn>\n",
      "TOTAL TIME ELAPSED: 29.83s\n",
      "\n",
      "Gemma output:\n",
      "<start_of_turn>user\n",
      "the meaning of sovereignty<end_of_turn>\n",
      "<start_of_turn>model\n",
      "Sovereignty, bir demokrasinin işleyişinde kritik bir rol oynar.<end_of_turn>\n",
      "TOTAL TIME ELAPSED: 0.80s\n",
      "\u001b[1m9000/9000\u001b[0m \u001b[32m━━━━━━━━━━━━━━━━━━━━\u001b[0m\u001b[37m\u001b[0m \u001b[1m3902s\u001b[0m 425ms/step - loss: 0.3016 - sparse_categorical_accuracy: 0.7093\n",
      "Epoch 2/5\n",
      "\u001b[1m9000/9000\u001b[0m \u001b[32m━━━━━━━━━━━━━━━━━━━━\u001b[0m\u001b[37m\u001b[0m \u001b[1m0s\u001b[0m 423ms/step - loss: 0.0515 - sparse_categorical_accuracy: 0.8937\n",
      "Gemma output:\n",
      "<start_of_turn>user\n",
      "Which country type is Turkey considered to be?<end_of_turn>\n",
      "<start_of_turn>model\n",
      "Bir toplumun siyasi yapısı farklı görüşlere sahiptir.<end_of_turn>\n",
      "TOTAL TIME ELAPSED: 0.67s\n",
      "\n",
      "Gemma output:\n",
      "<start_of_turn>user\n",
      "the meaning of sovereignty<end_of_turn>\n",
      "<start_of_turn>model\n",
      "Sovereignty, bir demokrasinin işleyişinde kritik bir rol oynar.<end_of_turn>\n",
      "TOTAL TIME ELAPSED: 0.80s\n",
      "\u001b[1m9000/9000\u001b[0m \u001b[32m━━━━━━━━━━━━━━━━━━━━\u001b[0m\u001b[37m\u001b[0m \u001b[1m3804s\u001b[0m 423ms/step - loss: 0.0515 - sparse_categorical_accuracy: 0.8937\n",
      "Epoch 3/5\n",
      "\u001b[1m9000/9000\u001b[0m \u001b[32m━━━━━━━━━━━━━━━━━━━━\u001b[0m\u001b[37m\u001b[0m \u001b[1m0s\u001b[0m 422ms/step - loss: 0.0320 - sparse_categorical_accuracy: 0.9248\n",
      "Gemma output:\n",
      "<start_of_turn>user\n",
      "Which country type is Turkey considered to be?<end_of_turn>\n",
      "<start_of_turn>model\n",
      "Bir toplumun siyasi yapısı farklı görüşler elicits.<end_of_turn>\n",
      "TOTAL TIME ELAPSED: 0.70s\n",
      "\n",
      "Gemma output:\n",
      "<start_of_turn>user\n",
      "the meaning of sovereignty<end_of_turn>\n",
      "<start_of_turn>model\n",
      "Sovereignty, bir demokrasinin işleyişinde kritik bir rol oynar.<end_of_turn>\n",
      "TOTAL TIME ELAPSED: 0.80s\n",
      "\u001b[1m9000/9000\u001b[0m \u001b[32m━━━━━━━━━━━━━━━━━━━━\u001b[0m\u001b[37m\u001b[0m \u001b[1m3802s\u001b[0m 422ms/step - loss: 0.0320 - sparse_categorical_accuracy: 0.9248\n",
      "Epoch 4/5\n",
      "\u001b[1m9000/9000\u001b[0m \u001b[32m━━━━━━━━━━━━━━━━━━━━\u001b[0m\u001b[37m\u001b[0m \u001b[1m0s\u001b[0m 422ms/step - loss: 0.0242 - sparse_categorical_accuracy: 0.9245\n",
      "Gemma output:\n",
      "<start_of_turn>user\n",
      "Which country type is Turkey considered to be?<end_of_turn>\n",
      "<start_of_turn>model\n",
      "Bir toplumun  hangi türde olması önemlidir.<end_of_turn>\n",
      "TOTAL TIME ELAPSED: 0.63s\n",
      "\n",
      "Gemma output:\n",
      "<start_of_turn>user\n",
      "the meaning of sovereignty<end_of_turn>\n",
      "<start_of_turn>model\n",
      "Sovereignty, bir demokrasinin işleyişinde kritik bir rol oynar.<end_of_turn>\n",
      "TOTAL TIME ELAPSED: 0.80s\n",
      "\u001b[1m9000/9000\u001b[0m \u001b[32m━━━━━━━━━━━━━━━━━━━━\u001b[0m\u001b[37m\u001b[0m \u001b[1m3798s\u001b[0m 422ms/step - loss: 0.0242 - sparse_categorical_accuracy: 0.9245\n",
      "Epoch 5/5\n",
      "\u001b[1m9000/9000\u001b[0m \u001b[32m━━━━━━━━━━━━━━━━━━━━\u001b[0m\u001b[37m\u001b[0m \u001b[1m0s\u001b[0m 423ms/step - loss: 0.0231 - sparse_categorical_accuracy: 0.9247\n",
      "Gemma output:\n",
      "<start_of_turn>user\n",
      "Which country type is Turkey considered to be?<end_of_turn>\n",
      "<start_of_turn>model\n",
      "Bir toplumun  hangi türde olması önemlidir.<end_of_turn>\n",
      "TOTAL TIME ELAPSED: 0.64s\n",
      "\n",
      "Gemma output:\n",
      "<start_of_turn>user\n",
      "the meaning of sovereignty<end_of_turn>\n",
      "<start_of_turn>model\n",
      "Sovereignty, bir demokrasinin işleyişinde kritik bir rol oynar.<end_of_turn>\n",
      "TOTAL TIME ELAPSED: 0.80s\n",
      "\u001b[1m9000/9000\u001b[0m \u001b[32m━━━━━━━━━━━━━━━━━━━━\u001b[0m\u001b[37m\u001b[0m \u001b[1m3806s\u001b[0m 423ms/step - loss: 0.0231 - sparse_categorical_accuracy: 0.9247\n"
     ]
    },
    {
     "data": {
      "image/png": "[encoded data removed]",
      "text/plain": [
       "<Figure size 640x480 with 1 Axes>"
      ]
     },
     "metadata": {},
     "output_type": "display_data"
    }
   ],
   "source": [
    "class CustomCallback(keras.callbacks.Callback):\n",
    "    \n",
    "    def on_epoch_end(self, epoch, logs=None):\n",
    "        model_name = f\"/kaggle/working/{Config.lora_name}_{Config.lora_rank}_last.lora.h5\"\n",
    "        gemma.backbone.save_lora_weights(model_name)\n",
    "\n",
    "        # Evaluate\n",
    "        text_gen(\"Which country type is Turkey considered to be?\")\n",
    "        text_gen(\n",
    "          \"the meaning of sovereignty\"\n",
    "        )\n",
    "       \n",
    "history = gemma.fit(train, epochs=Config.train_epoch, batch_size=1, callbacks=[CustomCallback()])\n",
    "\n",
    "import matplotlib.pyplot as plt\n",
    "plt.plot(history.history['loss'])\n",
    "plt.show()"
   ]
  }
 ],
 "metadata": {
  "kaggle": {
   "accelerator": "gpu",
   "dataSources": [
    {
     "databundleVersionId": 9690815,
     "sourceId": 85416,
     "sourceType": "competition"
    },
    {
     "datasetId": 6385258,
     "sourceId": 10314177,
     "sourceType": "datasetVersion"
    },
    {
     "modelId": 78150,
     "modelInstanceId": 72246,
     "sourceId": 85986,
     "sourceType": "modelInstanceVersion"
    }
   ],
   "dockerImageVersionId": 30823,
   "isGpuEnabled": true,
   "isInternetEnabled": true,
   "language": "python",
   "sourceType": "notebook"
  },
  "kernelspec": {
   "display_name": "Python 3",
   "language": "python",
   "name": "python3"
  },
  "language_info": {
   "codemirror_mode": {
    "name": "ipython",
    "version": 3
   },
   "file_extension": ".py",
   "mimetype": "text/x-python",
   "name": "python",
   "nbconvert_exporter": "python",
   "pygments_lexer": "ipython3",
   "version": "3.10.12"
  },
  "papermill": {
   "default_parameters": {},
   "duration": 19235.012738,
   "end_time": "2025-01-02T01:35:12.090118",
   "environment_variables": {},
   "exception": null,
   "input_path": "__notebook__.ipynb",
   "output_path": "__notebook__.ipynb",
   "parameters": {},
   "start_time": "2025-01-01T20:14:37.077380",
   "version": "2.6.0"
  },
  "widgets": {
   "application/vnd.jupyter.widget-state+json": {
    "state": {
     "0db8a286dde34e2e8b1006b5f2610dfb": {
      "model_module": "@jupyter-widgets/controls",
      "model_module_version": "2.0.0",
      "model_name": "HTMLModel",
      "state": {
       "_dom_classes": [],
       "_model_module": "@jupyter-widgets/controls",
       "_model_module_version": "2.0.0",
       "_model_name": "HTMLModel",
       "_view_count": null,
       "_view_module": "@jupyter-widgets/controls",
       "_view_module_version": "2.0.0",
       "_view_name": "HTMLView",
       "description": "",
       "description_allow_html": false,
       "layout": "IPY_MODEL_d8a470edab614e6d8230da3893397b91",
       "placeholder": "​",
       "style": "IPY_MODEL_e5b5a819e8044414a26619d331e56a9f",
       "tabbable": null,
       "tooltip": null,
       "value": " 9000/? [00:14&lt;00:00, 612.63it/s]"
      }
     },
     "1b16f07c59b843bbb1adce84444faadd": {
      "model_module": "@jupyter-widgets/controls",
      "model_module_version": "2.0.0",
      "model_name": "HTMLModel",
      "state": {
       "_dom_classes": [],
       "_model_module": "@jupyter-widgets/controls",
       "_model_module_version": "2.0.0",
       "_model_name": "HTMLModel",
       "_view_count": null,
       "_view_module": "@jupyter-widgets/controls",
       "_view_module_version": "2.0.0",
       "_view_name": "HTMLView",
       "description": "",
       "description_allow_html": false,
       "layout": "IPY_MODEL_473772c7852a450b97c971a98ba52c6d",
       "placeholder": "​",
       "style": "IPY_MODEL_742742c6152d4374ac2a8a1a0917dff6",
       "tabbable": null,
       "tooltip": null,
       "value": "tokenize dataset: "
      }
     },
     "34a73954d70f4ba18b7221c3c25ec675": {
      "model_module": "@jupyter-widgets/controls",
      "model_module_version": "2.0.0",
      "model_name": "ProgressStyleModel",
      "state": {
       "_model_module": "@jupyter-widgets/controls",
       "_model_module_version": "2.0.0",
       "_model_name": "ProgressStyleModel",
       "_view_count": null,
       "_view_module": "@jupyter-widgets/base",
       "_view_module_version": "2.0.0",
       "_view_name": "StyleView",
       "bar_color": null,
       "description_width": ""
      }
     },
     "473772c7852a450b97c971a98ba52c6d": {
      "model_module": "@jupyter-widgets/base",
      "model_module_version": "2.0.0",
      "model_name": "LayoutModel",
      "state": {
       "_model_module": "@jupyter-widgets/base",
       "_model_module_version": "2.0.0",
       "_model_name": "LayoutModel",
       "_view_count": null,
       "_view_module": "@jupyter-widgets/base",
       "_view_module_version": "2.0.0",
       "_view_name": "LayoutView",
       "align_content": null,
       "align_items": null,
       "align_self": null,
       "border_bottom": null,
       "border_left": null,
       "border_right": null,
       "border_top": null,
       "bottom": null,
       "display": null,
       "flex": null,
       "flex_flow": null,
       "grid_area": null,
       "grid_auto_columns": null,
       "grid_auto_flow": null,
       "grid_auto_rows": null,
       "grid_column": null,
       "grid_gap": null,
       "grid_row": null,
       "grid_template_areas": null,
       "grid_template_columns": null,
       "grid_template_rows": null,
       "height": null,
       "justify_content": null,
       "justify_items": null,
       "left": null,
       "margin": null,
       "max_height": null,
       "max_width": null,
       "min_height": null,
       "min_width": null,
       "object_fit": null,
       "object_position": null,
       "order": null,
       "overflow": null,
       "padding": null,
       "right": null,
       "top": null,
       "visibility": null,
       "width": null
      }
     },
     "742742c6152d4374ac2a8a1a0917dff6": {
      "model_module": "@jupyter-widgets/controls",
      "model_module_version": "2.0.0",
      "model_name": "HTMLStyleModel",
      "state": {
       "_model_module": "@jupyter-widgets/controls",
       "_model_module_version": "2.0.0",
       "_model_name": "HTMLStyleModel",
       "_view_count": null,
       "_view_module": "@jupyter-widgets/base",
       "_view_module_version": "2.0.0",
       "_view_name": "StyleView",
       "background": null,
       "description_width": "",
       "font_size": null,
       "text_color": null
      }
     },
     "7b83722cf579415a8a717ceaa0230a31": {
      "model_module": "@jupyter-widgets/controls",
      "model_module_version": "2.0.0",
      "model_name": "FloatProgressModel",
      "state": {
       "_dom_classes": [],
       "_model_module": "@jupyter-widgets/controls",
       "_model_module_version": "2.0.0",
       "_model_name": "FloatProgressModel",
       "_view_count": null,
       "_view_module": "@jupyter-widgets/controls",
       "_view_module_version": "2.0.0",
       "_view_name": "ProgressView",
       "bar_style": "success",
       "description": "",
       "description_allow_html": false,
       "layout": "IPY_MODEL_ff800ffa97e847d8bd4ffc5f2b0ec218",
       "max": 1.0,
       "min": 0.0,
       "orientation": "horizontal",
       "style": "IPY_MODEL_34a73954d70f4ba18b7221c3c25ec675",
       "tabbable": null,
       "tooltip": null,
       "value": 1.0
      }
     },
     "958e484e4c7a4ff9b3cc800150ede791": {
      "model_module": "@jupyter-widgets/controls",
      "model_module_version": "2.0.0",
      "model_name": "HBoxModel",
      "state": {
       "_dom_classes": [],
       "_model_module": "@jupyter-widgets/controls",
       "_model_module_version": "2.0.0",
       "_model_name": "HBoxModel",
       "_view_count": null,
       "_view_module": "@jupyter-widgets/controls",
       "_view_module_version": "2.0.0",
       "_view_name": "HBoxView",
       "box_style": "",
       "children": [
        "IPY_MODEL_1b16f07c59b843bbb1adce84444faadd",
        "IPY_MODEL_7b83722cf579415a8a717ceaa0230a31",
        "IPY_MODEL_0db8a286dde34e2e8b1006b5f2610dfb"
       ],
       "layout": "IPY_MODEL_cdc7b41671954f95995066bbcab32ea4",
       "tabbable": null,
       "tooltip": null
      }
     },
     "cdc7b41671954f95995066bbcab32ea4": {
      "model_module": "@jupyter-widgets/base",
      "model_module_version": "2.0.0",
      "model_name": "LayoutModel",
      "state": {
       "_model_module": "@jupyter-widgets/base",
       "_model_module_version": "2.0.0",
       "_model_name": "LayoutModel",
       "_view_count": null,
       "_view_module": "@jupyter-widgets/base",
       "_view_module_version": "2.0.0",
       "_view_name": "LayoutView",
       "align_content": null,
       "align_items": null,
       "align_self": null,
       "border_bottom": null,
       "border_left": null,
       "border_right": null,
       "border_top": null,
       "bottom": null,
       "display": null,
       "flex": null,
       "flex_flow": null,
       "grid_area": null,
       "grid_auto_columns": null,
       "grid_auto_flow": null,
       "grid_auto_rows": null,
       "grid_column": null,
       "grid_gap": null,
       "grid_row": null,
       "grid_template_areas": null,
       "grid_template_columns": null,
       "grid_template_rows": null,
       "height": null,
       "justify_content": null,
       "justify_items": null,
       "left": null,
       "margin": null,
       "max_height": null,
       "max_width": null,
       "min_height": null,
       "min_width": null,
       "object_fit": null,
       "object_position": null,
       "order": null,
       "overflow": null,
       "padding": null,
       "right": null,
       "top": null,
       "visibility": null,
       "width": null
      }
     },
     "d8a470edab614e6d8230da3893397b91": {
      "model_module": "@jupyter-widgets/base",
      "model_module_version": "2.0.0",
      "model_name": "LayoutModel",
      "state": {
       "_model_module": "@jupyter-widgets/base",
       "_model_module_version": "2.0.0",
       "_model_name": "LayoutModel",
       "_view_count": null,
       "_view_module": "@jupyter-widgets/base",
       "_view_module_version": "2.0.0",
       "_view_name": "LayoutView",
       "align_content": null,
       "align_items": null,
       "align_self": null,
       "border_bottom": null,
       "border_left": null,
       "border_right": null,
       "border_top": null,
       "bottom": null,
       "display": null,
       "flex": null,
       "flex_flow": null,
       "grid_area": null,
       "grid_auto_columns": null,
       "grid_auto_flow": null,
       "grid_auto_rows": null,
       "grid_column": null,
       "grid_gap": null,
       "grid_row": null,
       "grid_template_areas": null,
       "grid_template_columns": null,
       "grid_template_rows": null,
       "height": null,
       "justify_content": null,
       "justify_items": null,
       "left": null,
       "margin": null,
       "max_height": null,
       "max_width": null,
       "min_height": null,
       "min_width": null,
       "object_fit": null,
       "object_position": null,
       "order": null,
       "overflow": null,
       "padding": null,
       "right": null,
       "top": null,
       "visibility": null,
       "width": null
      }
     },
     "e5b5a819e8044414a26619d331e56a9f": {
      "model_module": "@jupyter-widgets/controls",
      "model_module_version": "2.0.0",
      "model_name": "HTMLStyleModel",
      "state": {
       "_model_module": "@jupyter-widgets/controls",
       "_model_module_version": "2.0.0",
       "_model_name": "HTMLStyleModel",
       "_view_count": null,
       "_view_module": "@jupyter-widgets/base",
       "_view_module_version": "2.0.0",
       "_view_name": "StyleView",
       "background": null,
       "description_width": "",
       "font_size": null,
       "text_color": null
      }
     },
     "ff800ffa97e847d8bd4ffc5f2b0ec218": {
      "model_module": "@jupyter-widgets/base",
      "model_module_version": "2.0.0",
      "model_name": "LayoutModel",
      "state": {
       "_model_module": "@jupyter-widgets/base",
       "_model_module_version": "2.0.0",
       "_model_name": "LayoutModel",
       "_view_count": null,
       "_view_module": "@jupyter-widgets/base",
       "_view_module_version": "2.0.0",
       "_view_name": "LayoutView",
       "align_content": null,
       "align_items": null,
       "align_self": null,
       "border_bottom": null,
       "border_left": null,
       "border_right": null,
       "border_top": null,
       "bottom": null,
       "display": null,
       "flex": null,
       "flex_flow": null,
       "grid_area": null,
       "grid_auto_columns": null,
       "grid_auto_flow": null,
       "grid_auto_rows": null,
       "grid_column": null,
       "grid_gap": null,
       "grid_row": null,
       "grid_template_areas": null,
       "grid_template_columns": null,
       "grid_template_rows": null,
       "height": null,
       "justify_content": null,
       "justify_items": null,
       "left": null,
       "margin": null,
       "max_height": null,
       "max_width": null,
       "min_height": null,
       "min_width": null,
       "object_fit": null,
       "object_position": null,
       "order": null,
       "overflow": null,
       "padding": null,
       "right": null,
       "top": null,
       "visibility": null,
       "width": "20px"
      }
     }
    },
    "version_major": 2,
    "version_minor": 0
   }
  }
 },
 "nbformat": 4,
 "nbformat_minor": 5
}
